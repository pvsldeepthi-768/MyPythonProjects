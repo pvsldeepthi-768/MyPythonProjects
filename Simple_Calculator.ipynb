{
  "nbformat": 4,
  "nbformat_minor": 0,
  "metadata": {
    "colab": {
      "provenance": [],
      "toc_visible": true,
      "authorship_tag": "ABX9TyNvkGp7ORCWxkLyCZvXjN8x",
      "include_colab_link": true
    },
    "kernelspec": {
      "name": "python3",
      "display_name": "Python 3"
    },
    "language_info": {
      "name": "python"
    }
  },
  "cells": [
    {
      "cell_type": "markdown",
      "metadata": {
        "id": "view-in-github",
        "colab_type": "text"
      },
      "source": [
        "<a href=\"https://colab.research.google.com/github/solver768/MyPythonProjects/blob/main/Simple_Calculator.ipynb\" target=\"_parent\"><img src=\"https://colab.research.google.com/assets/colab-badge.svg\" alt=\"Open In Colab\"/></a>"
      ]
    },
    {
      "cell_type": "code",
      "execution_count": null,
      "metadata": {
        "colab": {
          "base_uri": "https://localhost:8080/"
        },
        "id": "x5Fi82xZNjDl",
        "outputId": "a7bcc1b7-c934-4722-e864-3c1688dbf331"
      },
      "outputs": [
        {
          "output_type": "stream",
          "name": "stdout",
          "text": [
            "Enter First Number :12\n",
            "Choose your operation:*\n",
            "Enter Second Number:32\n",
            "384\n"
          ]
        }
      ],
      "source": [
        "#Simple calculator\n",
        "#take user input\n",
        "number1 = int(input(\"Enter First Number :\"))\n",
        "operator = input(\"Choose your operation:\")\n",
        "number2 = int(input(\"Enter Second Number:\"))\n",
        "\n",
        "#Calulate the result\n",
        "\n",
        "if operator == \"+\":\n",
        "    print(number1 + number2)\n",
        "\n",
        "elif operator == \"-\":\n",
        "    print(number1 - number2)\n",
        "\n",
        "elif operator == \"*\" or operator.upper() == \"X\" :\n",
        "    print(number1 * number2)\n",
        "\n",
        "elif operator == \"/\":\n",
        "    print(number1 / number2)\n",
        "\n",
        "elif operator == \"%\":\n",
        "    print(number1 % number2)\n",
        "\n",
        "elif operator == \"**\" or operator == \"^\":\n",
        "    print(number1 ** number2)\n",
        "\n",
        "else:\n",
        "    print(\"Invalid Operator\")\n",
        "\n"
      ]
    }
  ]
}
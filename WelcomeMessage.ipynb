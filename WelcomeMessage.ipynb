{
  "nbformat": 4,
  "nbformat_minor": 0,
  "metadata": {
    "colab": {
      "provenance": [],
      "toc_visible": true
    },
    "kernelspec": {
      "name": "python3",
      "display_name": "Python 3"
    },
    "language_info": {
      "name": "python"
    }
  },
  "cells": [
    {
      "cell_type": "code",
      "execution_count": null,
      "metadata": {
        "colab": {
          "base_uri": "https://localhost:8080/"
        },
        "id": "WTU2cy5A0MKG",
        "outputId": "edd5790c-aa01-4ac5-a811-57524604bcae"
      },
      "outputs": [
        {
          "output_type": "stream",
          "name": "stdout",
          "text": [
            "Enter your name : Deepthi\n",
            "Enter you hobby:drawing\n",
            "\n",
            "----Welcome Message---\n",
            "Hello Deepthi!👋\n",
            "Welcome to the Programming World\n",
            "It's great to know that your are intrested in drawing!\n",
            "Here you can build something amazing!!\n",
            "Let's get started!!!\n"
          ]
        }
      ],
      "source": [
        "# Welcome message generator\n",
        "# Take input from user\n",
        "name = input(\"Enter your name : \") # name\n",
        "hobby = input(\"Enter you hobby:\") #hobby\n",
        "print(\"\\n----Welcome Message---\")\n",
        "print(f\"Hello {name}!👋\")\n",
        "print(f\"Welcome to the Programming World\")\n",
        "print(f\"It's great to know that your are intrested in {hobby}!\")\n",
        "print(f\"Here you can build something amazing!!\")\n",
        "print(f\"Let's get started!!!\")"
      ]
    }
  ]
}
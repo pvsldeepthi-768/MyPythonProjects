{
  "nbformat": 4,
  "nbformat_minor": 0,
  "metadata": {
    "colab": {
      "provenance": [],
      "toc_visible": true,
      "authorship_tag": "ABX9TyMJ2BbVUDoAY7Fdk3/Tj3Lt",
      "include_colab_link": true
    },
    "kernelspec": {
      "name": "python3",
      "display_name": "Python 3"
    },
    "language_info": {
      "name": "python"
    }
  },
  "cells": [
    {
      "cell_type": "markdown",
      "metadata": {
        "id": "view-in-github",
        "colab_type": "text"
      },
      "source": [
        "<a href=\"https://colab.research.google.com/github/solver768/MyPythonProjects/blob/main/CountDownTimer.ipynb\" target=\"_parent\"><img src=\"https://colab.research.google.com/assets/colab-badge.svg\" alt=\"Open In Colab\"/></a>"
      ]
    },
    {
      "cell_type": "code",
      "execution_count": 3,
      "metadata": {
        "id": "waW_kbfXVe3G",
        "colab": {
          "base_uri": "https://localhost:8080/"
        },
        "outputId": "21462c99-b971-4026-a54d-44b55a36a640"
      },
      "outputs": [
        {
          "output_type": "stream",
          "name": "stdout",
          "text": [
            "Enter the countdown to start:10\n",
            "Enter the speed of count down:1\n",
            "10\n",
            "9\n",
            "8\n",
            "7\n",
            "6\n",
            "5\n",
            "You have reached Half way\n",
            "4\n",
            "3\n",
            "2\n",
            "1\n",
            "Hey😃!!! countdown completed👍\n"
          ]
        }
      ],
      "source": [
        "#count down timer\n",
        "#time module have sleep function\n",
        "import time\n",
        "#get the use input to set time\n",
        "start=int(input(\"Enter the countdown to start:\"))\n",
        "x=start\n",
        "#ask how much speed to count\n",
        "speed=float(input(\"Enter the speed of count down:\"))\n",
        "while start>0:\n",
        "  print(start)\n",
        "  if start==x//2:\n",
        "    print(\"You have reached Half way\")\n",
        "  time.sleep(speed)\n",
        "  start=start-1\n",
        "#final message\n",
        "print(\"Hey😃!!! countdown completed👍\")"
      ]
    }
  ]
}
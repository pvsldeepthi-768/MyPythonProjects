{
  "nbformat": 4,
  "nbformat_minor": 0,
  "metadata": {
    "colab": {
      "provenance": [],
      "authorship_tag": "ABX9TyMzSPGDg0DeZ5dJnp1pQYre",
      "include_colab_link": true
    },
    "kernelspec": {
      "name": "python3",
      "display_name": "Python 3"
    },
    "language_info": {
      "name": "python"
    }
  },
  "cells": [
    {
      "cell_type": "markdown",
      "metadata": {
        "id": "view-in-github",
        "colab_type": "text"
      },
      "source": [
        "<a href=\"https://colab.research.google.com/github/solver768/MyPythonProjects/blob/main/PersonalizedGreetMessage.ipynb\" target=\"_parent\"><img src=\"https://colab.research.google.com/assets/colab-badge.svg\" alt=\"Open In Colab\"/></a>"
      ]
    },
    {
      "cell_type": "markdown",
      "source": [],
      "metadata": {
        "id": "xzmaZOuN4EoK"
      }
    },
    {
      "cell_type": "code",
      "execution_count": 8,
      "metadata": {
        "id": "h-T3gJ3v25-J",
        "outputId": "1ea3f7ee-aa78-41ee-ec09-3b3a09e0dae1",
        "colab": {
          "base_uri": "https://localhost:8080/"
        }
      },
      "outputs": [
        {
          "output_type": "stream",
          "name": "stdout",
          "text": [
            "Enter your name: Deepthi Ponduri\n",
            "Enter your age:19\n",
            "Enter your favorite color:Black\n",
            "\n",
            "----------Personalized Greeting------------\n",
            "Hi Deepthi Ponduri!👋\n",
            "You are 19 years old\n",
            "Your favorite color is Black\n",
            "Good to have you here!\n",
            "Let's start with Python adventure\n"
          ]
        }
      ],
      "source": [
        "#Personalised greeting program\n",
        "\n",
        "#Ask the user details\n",
        "name=input(\"Enter your name: \")\n",
        "age=int(input(\"Enter your age:\"))\n",
        "Color=input(\"Enter your favorite color:\")\n",
        "\n",
        "#generate greetings\n",
        "print(\"\\n----------Personalized Greeting------------\")\n",
        "print(f\"Hi {name}!\"+\"👋\")\n",
        "print(\"You are {} years old\".format(age))\n",
        "print(\"Your favorite color is\",Color)\n",
        "print(\"Good to have you here!\")\n",
        "print(\"Let's start with Python adventure\")"
      ]
    }
  ]
}
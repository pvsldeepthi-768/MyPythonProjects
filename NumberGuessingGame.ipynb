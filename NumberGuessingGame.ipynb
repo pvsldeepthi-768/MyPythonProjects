{
  "nbformat": 4,
  "nbformat_minor": 0,
  "metadata": {
    "colab": {
      "provenance": [],
      "toc_visible": true,
      "authorship_tag": "ABX9TyNt4NsPfTB9VvN4So6527P3",
      "include_colab_link": true
    },
    "kernelspec": {
      "name": "python3",
      "display_name": "Python 3"
    },
    "language_info": {
      "name": "python"
    }
  },
  "cells": [
    {
      "cell_type": "markdown",
      "metadata": {
        "id": "view-in-github",
        "colab_type": "text"
      },
      "source": [
        "<a href=\"https://colab.research.google.com/github/solver768/MyPythonProjects/blob/main/NumberGuessingGame.ipynb\" target=\"_parent\"><img src=\"https://colab.research.google.com/assets/colab-badge.svg\" alt=\"Open In Colab\"/></a>"
      ]
    },
    {
      "cell_type": "code",
      "execution_count": null,
      "metadata": {
        "colab": {
          "base_uri": "https://localhost:8080/"
        },
        "id": "DEPWkHTXl-ev",
        "outputId": "d3445472-d881-46ca-832f-09e7952e5f8b"
      },
      "outputs": [
        {
          "output_type": "stream",
          "name": "stdout",
          "text": [
            "Welcome to Number Guessing Game\n",
            "I have a number with me between 1 and 10\n",
            "You have 3 attempts to guess the number\n",
            "Take a guess\n",
            "Enter Your Guessing Number:3\n",
            "Your Guessing Number is too low\n",
            "Still you have 2 attempts.\n",
            "You can guess it\n",
            "Enter Your Guessing Number:5\n",
            "Your Guessing Number is too low\n",
            "Still you have 1 attempts.\n",
            "You can guess it\n",
            "Enter Your Guessing Number:9\n",
            "Congratulations! You guessed the number correctly\n"
          ]
        }
      ],
      "source": [
        "import random\n",
        "def GuessingNumber(secretValue):\n",
        " print(\"You have 3 attempts to guess the number\")\n",
        " print(\"Take a guess\")\n",
        " attempts=3\n",
        " while attempts>0:\n",
        "    GuessingNumber=int(input(\"Enter Your Guessing Number:\"))\n",
        "    attempts-=1\n",
        "    if(GuessingNumber==secretValue):\n",
        "        print(\"Congratulations! You guessed the number correctly\")\n",
        "        break\n",
        "    elif attempts==0:\n",
        "      print(\"Sorry,You've run out of attempts\")\n",
        "      print(\"The secret number was:\",secretValue)\n",
        "      print(\"Don't worry, you really tried alot!\\nBetter Luck next time!!/nWe know you can do it!!!\")\n",
        "\n",
        "    else:\n",
        "      if(GuessingNumber<secretValue):\n",
        "        print(\"Your Guessing Number is too low\")\n",
        "      else:\n",
        "        print(\"Your Guessing Number is too high\")\n",
        "      print(\"Still you have\",attempts,\"attempts.\\nYou can guess it\")\n",
        "# displays the theme\n",
        "print(\"Welcome to Number Guessing Game\")\n",
        "print(\"I have a number with me between 1 and 10\")\n",
        "#a Random number is generated\n",
        "secretValue=random.randint(1,10)\n",
        "GuessingNumber(secretValue)"
      ]
    }
  ]
}
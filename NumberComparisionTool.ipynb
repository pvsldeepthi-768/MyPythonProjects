{
  "nbformat": 4,
  "nbformat_minor": 0,
  "metadata": {
    "colab": {
      "provenance": [],
      "authorship_tag": "ABX9TyPEVn12EZ8UEv4xyCFuUTF6",
      "include_colab_link": true
    },
    "kernelspec": {
      "name": "python3",
      "display_name": "Python 3"
    },
    "language_info": {
      "name": "python"
    }
  },
  "cells": [
    {
      "cell_type": "markdown",
      "metadata": {
        "id": "view-in-github",
        "colab_type": "text"
      },
      "source": [
        "<a href=\"https://colab.research.google.com/github/solver768/MyPythonProjects/blob/main/NumberComparisionTool.ipynb\" target=\"_parent\"><img src=\"https://colab.research.google.com/assets/colab-badge.svg\" alt=\"Open In Colab\"/></a>"
      ]
    },
    {
      "cell_type": "code",
      "execution_count": 11,
      "metadata": {
        "colab": {
          "base_uri": "https://localhost:8080/"
        },
        "id": "gwG5BX6JT7uI",
        "outputId": "5510452c-620c-432d-d161-21ef23f75b32"
      },
      "outputs": [
        {
          "output_type": "stream",
          "name": "stdout",
          "text": [
            "Do you want to compare two numbers or three numbers?\n",
            "3\n",
            "\n",
            "\n",
            "------------Comparision of Three Numbers----------------\n",
            "Enter first number:12\n",
            "Enter second number:34\n",
            "Enter third number:5\n",
            "\n",
            "\n",
            "------Here is the relation of Given Numbers-----\n",
            "34.0 is greater than 12.0 and 5.0\n",
            "5.0 is greater than 12.0\n",
            "All are non-zero\n"
          ]
        }
      ],
      "source": [
        "# Number Comparing Tool\n",
        "\n",
        "# Take input from user whether the want to compare two numbers or three numbers\n",
        "print(\"Do you want to compare two numbers or three numbers?\")\n",
        "choice=input()\n",
        "\n",
        "# Check whether it is two Numbers comparison or three numbers comparision\n",
        "if choice.lower() ==\"two\" or choice == '2':\n",
        "    print(\"\\n\\n------------Comparision of Two Numbers----------------\")\n",
        "    # Take input from user\n",
        "    number1=float(input(\"Enter first number:\"))\n",
        "    number2=float(input(\"Enter second number:\"))\n",
        "    print(\"\\n\\n------Here is the relation of Given Numbers-----\")\n",
        "    # Comparing numbers\n",
        "    if number1 == number2:\n",
        "      print(\"Numbers are equal\")\n",
        "    elif number1 > number2:\n",
        "      print(f\"{number1} is greater than {number2}\")\n",
        "    else:\n",
        "      print(f\"{number2} is greater than {number1}\")\n",
        "\n",
        "    # check whether zero is given or not\n",
        "    if ( number1==0 or number2 ==0) :\n",
        "      print(\"There is atleast one zero in the numbers\")\n",
        "    else:\n",
        "      print(\"Both are non-zero\")\n",
        "\n",
        "# Comparision of Three Numbers\n",
        "elif choice.lower() == \"three\" or choice == '3':\n",
        "  print(\"\\n\\n------------Comparision of Three Numbers----------------\")\n",
        "\n",
        "  # Take input of three numbers from user :\n",
        "  number1=float(input(\"Enter first number:\"))\n",
        "  number2=float(input(\"Enter second number:\"))\n",
        "  number3=float(input(\"Enter third number:\"))\n",
        "\n",
        "  #Comparing of numbers\n",
        "  print(\"\\n\\n------Here is the relation of Given Numbers-----\")\n",
        "\n",
        "  if number1 == number2 == number3:\n",
        "    print(\"Numbers are equal to\",number1)\n",
        "  elif number1 > number2 and number1 > number3:\n",
        "    print(f\"{number1} is greater than {number2} and {number3}\")\n",
        "    if number3 == number2:\n",
        "      print(\"Numbers are equal\")\n",
        "    elif number3 > number2:\n",
        "      print(f\"{number3} is greater than {number2}\")\n",
        "    else:\n",
        "      print(f\"{number2} is greater than {number3}\")\n",
        "\n",
        "  elif number2 > number1 and number2 > number3:\n",
        "    print(f\"{number2} is greater than {number1} and {number3}\")\n",
        "    if number1 == number2:\n",
        "      print(\"Numbers are equal\")\n",
        "    elif number1 > number2:\n",
        "      print(f\"{number1} is greater than {number3}\")\n",
        "    else:\n",
        "      print(f\"{number3} is greater than {number1}\")\n",
        "\n",
        "  elif number3 > number1 and number3 > number2:\n",
        "    print(f\"{number3} is greater than {number1} and {number2}\")\n",
        "    if number1 == number2:\n",
        "      print(\"Numbers are equal\")\n",
        "    elif number1 > number2:\n",
        "      print(f\"{number1} is greater than {number2}\")\n",
        "    else:\n",
        "      print(f\"{number2} is greater than {number1}\")\n",
        "  if ( number1==0 or number2 ==0 or number3==0) :\n",
        "      print(\"There is atleast one zero in the numbers\")\n",
        "  else:\n",
        "      print(\"All are non-zero\")\n",
        "else:\n",
        "  print(\"Invalid Input\")\n",
        "\n",
        "\n",
        "\n"
      ]
    }
  ]
}